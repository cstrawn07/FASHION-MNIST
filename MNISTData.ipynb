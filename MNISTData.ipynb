{
 "cells": [
  {
   "cell_type": "code",
   "execution_count": 2,
   "metadata": {},
   "outputs": [],
   "source": [
    "import numpy as np\n",
    "#import tensorflow as tf\n",
    "import matplotlib.pyplot as plt\n",
    "%matplotlib inline"
   ]
  },
  {
   "cell_type": "code",
   "execution_count": 3,
   "metadata": {},
   "outputs": [
    {
     "data": {
      "text/plain": [
       "'/Users/birsensirkeci/ML/EE258'"
      ]
     },
     "execution_count": 3,
     "metadata": {},
     "output_type": "execute_result"
    }
   ],
   "source": [
    "pwd"
   ]
  },
  {
   "cell_type": "markdown",
   "metadata": {},
   "source": [
    "# Fetch MNIST data"
   ]
  },
  {
   "cell_type": "code",
   "execution_count": 1,
   "metadata": {},
   "outputs": [
    {
     "name": "stdout",
     "output_type": "stream",
     "text": [
      "<class 'sklearn.utils.Bunch'> {'data': array([[0, 0, 0, ..., 0, 0, 0],\n",
      "       [0, 0, 0, ..., 0, 0, 0],\n",
      "       [0, 0, 0, ..., 0, 0, 0],\n",
      "       ..., \n",
      "       [0, 0, 0, ..., 0, 0, 0],\n",
      "       [0, 0, 0, ..., 0, 0, 0],\n",
      "       [0, 0, 0, ..., 0, 0, 0]], dtype=uint8), 'DESCR': 'mldata.org dataset: mnist-original', 'target': array([ 0.,  0.,  0., ...,  9.,  9.,  9.]), 'COL_NAMES': ['label', 'data']}\n"
     ]
    }
   ],
   "source": [
    "from sklearn.datasets import fetch_mldata\n",
    "\n",
    "mnist_dataset = fetch_mldata('MNIST original')\n",
    "## if gives error - do the following fix\n",
    "## http://htrang10108.blogspot.com/2018/08/fetchmldata-how-to-manually-set-up.html\n",
    "\n",
    "\n",
    "print(type(mnist_dataset), mnist_dataset)\n"
   ]
  },
  {
   "cell_type": "code",
   "execution_count": 7,
   "metadata": {},
   "outputs": [
    {
     "name": "stdout",
     "output_type": "stream",
     "text": [
      "X <class 'numpy.ndarray'> (70000, 784)\n"
     ]
    }
   ],
   "source": [
    "X = mnist_dataset['data']\n",
    "print('X', type(X), X.shape)"
   ]
  },
  {
   "cell_type": "code",
   "execution_count": 8,
   "metadata": {},
   "outputs": [
    {
     "data": {
      "image/png": "[encoded data removed]",
      "text/plain": [
       "<matplotlib.figure.Figure at 0x120bbb320>"
      ]
     },
     "metadata": {},
     "output_type": "display_data"
    }
   ],
   "source": [
    "import matplotlib.pyplot as plt\n",
    "%matplotlib inline\n",
    "plt.imshow(X[100].reshape(28,28), cmap = plt.cm.binary, interpolation = 'nearest') #plt.axis(\"off\")\n",
    "plt.show()"
   ]
  },
  {
   "cell_type": "code",
   "execution_count": 10,
   "metadata": {},
   "outputs": [
    {
     "name": "stdout",
     "output_type": "stream",
     "text": [
      "y <class 'numpy.ndarray'> (70000,)\n",
      "split to train [ 0.  0.  0. ...,  9.  9.  9.]\n",
      "split to test [ 0.  0.  0. ...,  9.  9.  9.]\n"
     ]
    }
   ],
   "source": [
    "y = mnist_dataset['target']\n",
    "print('y', type(y), y.shape)\n",
    "print('split to train', y[:59999])\n",
    "print('split to test', y[60000:])"
   ]
  },
  {
   "cell_type": "markdown",
   "metadata": {},
   "source": [
    "# Split the train & test data. The mnist is already split to a training set(the first 60,000) and the test set (the last 10,000)"
   ]
  },
  {
   "cell_type": "code",
   "execution_count": 11,
   "metadata": {},
   "outputs": [
    {
     "name": "stdout",
     "output_type": "stream",
     "text": [
      "X_train_unshuffled <class 'numpy.ndarray'> (60000, 784)\n",
      "X_test <class 'numpy.ndarray'> (10000, 784)\n"
     ]
    }
   ],
   "source": [
    "X_train_unshuffled, X_test = X[:60000], X[60000:]\n",
    "print('X_train_unshuffled', type(X_train_unshuffled), X_train_unshuffled.shape)\n",
    "print('X_test', type(X_test), X_test.shape)"
   ]
  },
  {
   "cell_type": "code",
   "execution_count": 12,
   "metadata": {},
   "outputs": [
    {
     "name": "stdout",
     "output_type": "stream",
     "text": [
      "y_train_unshuffled <class 'numpy.ndarray'> (60000,)\n",
      "y_test <class 'numpy.ndarray'> (10000,)\n"
     ]
    }
   ],
   "source": [
    "y_train_unshuffled, y_test = y[:60000], y[60000:]\n",
    "print('y_train_unshuffled', type(y_train_unshuffled), y_train_unshuffled.shape)\n",
    "print('y_test', type(y_test), y_test.shape)"
   ]
  },
  {
   "cell_type": "markdown",
   "metadata": {},
   "source": [
    "# The distribution of TRAINING data"
   ]
  },
  {
   "cell_type": "code",
   "execution_count": 13,
   "metadata": {},
   "outputs": [
    {
     "name": "stdout",
     "output_type": "stream",
     "text": [
      "{0.0: 5923, 1.0: 6742, 2.0: 5958, 3.0: 6131, 4.0: 5842, 5.0: 5421, 6.0: 5918, 7.0: 6265, 8.0: 5851, 9.0: 5949}\n"
     ]
    }
   ],
   "source": [
    "digit_train, counts_train = np.unique(y_train_unshuffled, return_counts = True)\n",
    "\n",
    "distribution_train = dict(zip(digit_train, counts_train))\n",
    "print(distribution_train )"
   ]
  },
  {
   "cell_type": "code",
   "execution_count": 14,
   "metadata": {},
   "outputs": [
    {
     "data": {
      "image/png": "[encoded data removed]",
      "text/plain": [
       "<matplotlib.figure.Figure at 0x124167f60>"
      ]
     },
     "metadata": {},
     "output_type": "display_data"
    }
   ],
   "source": [
    "plt.bar(list(distribution_train.keys()),distribution_train.values(),width =0.6)\n",
    "plt.xlabel('Digit Number')\n",
    "plt.ylabel('Counts')\n",
    "plt.show()"
   ]
  },
  {
   "cell_type": "markdown",
   "metadata": {},
   "source": [
    "# The distribution of TEST data"
   ]
  },
  {
   "cell_type": "code",
   "execution_count": 15,
   "metadata": {},
   "outputs": [
    {
     "name": "stdout",
     "output_type": "stream",
     "text": [
      "{0.0: 980, 1.0: 1135, 2.0: 1032, 3.0: 1010, 4.0: 982, 5.0: 892, 6.0: 958, 7.0: 1028, 8.0: 974, 9.0: 1009}\n"
     ]
    }
   ],
   "source": [
    "digit_test, counts_test = np.unique(y_test, return_counts = True)\n",
    "\n",
    "distribution_test = dict(zip(digit_test, counts_test))\n",
    "print(distribution_test)"
   ]
  },
  {
   "cell_type": "code",
   "execution_count": 16,
   "metadata": {},
   "outputs": [
    {
     "data": {
      "image/png": "[encoded data removed]",
      "text/plain": [
       "<matplotlib.figure.Figure at 0x1241b0940>"
      ]
     },
     "metadata": {},
     "output_type": "display_data"
    }
   ],
   "source": [
    "plt.bar(list(distribution_test.keys()),distribution_test.values(),width =0.6)\n",
    "plt.xlabel('Digit Number')\n",
    "plt.ylabel('Counts')\n",
    "plt.show()"
   ]
  },
  {
   "cell_type": "markdown",
   "metadata": {},
   "source": [
    "# Inspect some examples of the scaled image"
   ]
  },
  {
   "cell_type": "code",
   "execution_count": 21,
   "metadata": {},
   "outputs": [],
   "source": [
    "from sklearn.preprocessing import StandardScaler\n",
    "\n",
    "scaler = StandardScaler()\n",
    "X_train_unshuffled_scaled = scaler.fit_transform(X_train_unshuffled.astype(np.float64))"
   ]
  },
  {
   "cell_type": "code",
   "execution_count": 22,
   "metadata": {},
   "outputs": [
    {
     "data": {
      "image/png": "[encoded data removed]",
      "text/plain": [
       "<matplotlib.figure.Figure at 0x1116abb38>"
      ]
     },
     "metadata": {},
     "output_type": "display_data"
    }
   ],
   "source": [
    "plt.imshow(X_train_unshuffled[300].reshape(28,28), cmap = plt.cm.binary, interpolation = 'nearest') #plt.axis(\"off\")\n",
    "plt.imshow(X_train_unshuffled_scaled[300].reshape(28,28), cmap = plt.cm.binary, interpolation = 'nearest')\n",
    "plt.show()"
   ]
  },
  {
   "cell_type": "code",
   "execution_count": 23,
   "metadata": {},
   "outputs": [
    {
     "data": {
      "image/png": "[encoded data removed]",
      "text/plain": [
       "<matplotlib.figure.Figure at 0x1114417f0>"
      ]
     },
     "metadata": {},
     "output_type": "display_data"
    },
    {
     "data": {
      "image/png": "[encoded data removed]",
      "text/plain": [
       "<matplotlib.figure.Figure at 0x107686b38>"
      ]
     },
     "metadata": {},
     "output_type": "display_data"
    }
   ],
   "source": [
    "fig_object, ax_object = plt.subplots(1, 10, figsize=(12,5))\n",
    "ax_object = ax_object.reshape(10,)\n",
    "      \n",
    "for i in range(len(ax_object)):\n",
    "    ax = ax_object[i]\n",
    "    ax.imshow(X_train_unshuffled[6500*i].reshape(28,28), cmap = plt.cm.binary, interpolation = 'nearest')\n",
    "    ax.set_title(i)       \n",
    "plt.show()\n",
    "\n",
    "fig_object, ax_object = plt.subplots(1, 10, figsize=(12,5))\n",
    "ax_object = ax_object.reshape(10,)\n",
    "      \n",
    "for i in range(len(ax_object)):\n",
    "    ax = ax_object[i]\n",
    "    ax.imshow(X_train_unshuffled_scaled[6500*i].reshape(28,28), cmap = plt.cm.binary, interpolation = 'nearest')\n",
    "    ax.set_title(i)       \n",
    "plt.show()\n"
   ]
  },
  {
   "cell_type": "code",
   "execution_count": null,
   "metadata": {},
   "outputs": [],
   "source": []
  }
 ],
 "metadata": {
  "kernelspec": {
   "display_name": "Python 3",
   "language": "python",
   "name": "python3"
  },
  "language_info": {
   "codemirror_mode": {
    "name": "ipython",
    "version": 3
   },
   "file_extension": ".py",
   "mimetype": "text/x-python",
   "name": "python",
   "nbconvert_exporter": "python",
   "pygments_lexer": "ipython3",
   "version": "3.7.3"
  }
 },
 "nbformat": 4,
 "nbformat_minor": 2
}
